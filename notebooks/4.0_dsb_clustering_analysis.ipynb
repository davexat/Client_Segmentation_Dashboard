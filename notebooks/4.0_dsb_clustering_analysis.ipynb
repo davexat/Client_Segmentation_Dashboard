{
 "cells": [
  {
   "cell_type": "markdown",
   "id": "b375c3cf-9142-490d-8b70-3959bc946f02",
   "metadata": {},
   "source": [
    "### Clustering Analysis\n",
    "En esta sección se analizarán los clusters obtenidos del notebook 3.0\n",
    "\n",
    "#### Selección del dataframe con los mejores clusters\n",
    "Se seleccionará el dataframe con los mejores clusters de acuerdo con las métricas de evaluación de calidad que utilizamos en el notebook anterior."
   ]
  },
  {
   "cell_type": "code",
   "execution_count": 1,
   "id": "b1027bbb-18a4-43dd-b444-151ad58fcd60",
   "metadata": {},
   "outputs": [],
   "source": [
    "# Importing libraries\n",
    "import pandas as pd\n",
    "import numpy as np\n",
    "import seaborn as sns\n",
    "import matplotlib.pyplot as plt\n",
    "from sklearn.cluster import KMeans, DBSCAN\n",
    "from sklearn.preprocessing import StandardScaler, RobustScaler, MinMaxScaler\n",
    "from sklearn.decomposition import PCA\n",
    "from sklearn.metrics import silhouette_score, davies_bouldin_score"
   ]
  },
  {
   "cell_type": "code",
   "execution_count": null,
   "id": "0c5c4a84-99f0-48d8-bd4a-c6e4c06216a2",
   "metadata": {},
   "outputs": [],
   "source": [
    "# Loading cleaned dataset\n",
    "dataset_path = \"../data/processed/cleaned_dataset.csv\"\n",
    "df = pd.read_csv(dataset_path)\n",
    "df = df.drop(columns=[\"ID\", \"dias_primera_compra\", \"n_clicks\", \"info_perfil\"])"
   ]
  },
  {
   "cell_type": "code",
   "execution_count": null,
   "id": "e8d949e9-dbc3-4e33-b11d-b1393c1c4dfd",
   "metadata": {},
   "outputs": [],
   "source": [
    "# Util functions\n",
    "def scale_minmax(df, column):\n",
    "    scaler = MinMaxScaler()\n",
    "    df[column] = scaler.fit_transform(df[[column]])\n",
    "def visualize_clusters(df_scaled, df_objective, column):\n",
    "    pca = PCA(n_components=2)\n",
    "    principal_components = pca.fit_transform(df_scaled)\n",
    "    plt.figure(figsize=(6, 4))\n",
    "    plt.scatter(principal_components[:, 0], principal_components[:, 1], c=df_objective[column], cmap='viridis', s=1)\n",
    "    plt.title('Cluster Visualization (PCA)')\n",
    "    plt.xlabel('PCA Component 1')\n",
    "    plt.ylabel('PCA Component 2')\n",
    "    plt.colorbar(label='Cluster')\n",
    "    plt.show\n",
    "def evaluate_clusters(df_scaled, df_objective, column):\n",
    "    print(f\"Silhouette = {silhouette_score(df_scaled, df_objective[column]):.4f}\\n\"\n",
    "          f\"Davies-Bouldin = {davies_bouldin_score(df_scaled, df_objective[column]):.4f}\")\n",
    "    visualize_clusters(df_scaled, df_objective, column)"
   ]
  },
  {
   "cell_type": "code",
   "execution_count": null,
   "id": "d2d96bcb-02e7-41f7-9b45-5c4e52e983db",
   "metadata": {},
   "outputs": [],
   "source": [
    "# Scaling variables\n",
    "df_scaled = df.copy()\n",
    "for i in list(df.columns):\n",
    "    scale_minmax(df_scaled, i)"
   ]
  },
  {
   "cell_type": "code",
   "execution_count": null,
   "id": "37998504-b31d-4a6f-8b16-a5313269eb4a",
   "metadata": {},
   "outputs": [],
   "source": [
    "# K-Means\n",
    "df_kmeans = df.copy()\n",
    "kmeans = KMeans(n_clusters=3).fit(df_scaled.values)\n",
    "df_kmeans[\"cluster\"] = kmeans.labels_"
   ]
  },
  {
   "cell_type": "code",
   "execution_count": null,
   "id": "682d40e7-11ad-4457-980b-bea4695214af",
   "metadata": {},
   "outputs": [],
   "source": [
    "# DBSCAN\n",
    "df_dbscan = df.copy()\n",
    "dbscan = DBSCAN(eps = 0.04, min_samples = 50)\n",
    "df_dbscan['cluster'] = dbscan.fit_predict(df_scaled)\n",
    "scaled_db = df_scaled[df_dbscan[\"cluster\"] != -1]\n",
    "df_dbscan = df_dbscan[df_dbscan[\"cluster\"] != -1]"
   ]
  },
  {
   "cell_type": "code",
   "execution_count": null,
   "id": "22870608-11c3-4f30-a0c0-3d8958c76b0c",
   "metadata": {},
   "outputs": [],
   "source": [
    "# G"
   ]
  }
 ],
 "metadata": {
  "kernelspec": {
   "display_name": "Python (customer_segmentation)",
   "language": "python",
   "name": "customer_segmentation"
  },
  "language_info": {
   "codemirror_mode": {
    "name": "ipython",
    "version": 3
   },
   "file_extension": ".py",
   "mimetype": "text/x-python",
   "name": "python",
   "nbconvert_exporter": "python",
   "pygments_lexer": "ipython3",
   "version": "3.10.16"
  }
 },
 "nbformat": 4,
 "nbformat_minor": 5
}
