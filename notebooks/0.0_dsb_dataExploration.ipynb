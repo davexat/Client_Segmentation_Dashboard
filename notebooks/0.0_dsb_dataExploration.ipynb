{
 "cells": [
  {
   "cell_type": "markdown",
   "metadata": {},
   "source": [
    "### First data exploration :)"
   ]
  },
  {
   "cell_type": "code",
   "execution_count": 71,
   "metadata": {},
   "outputs": [],
   "source": [
    "# Importing libraries\n",
    "import pandas as pd\n",
    "import matplotlib.pyplot as plt\n",
    "# %matplotlib inline"
   ]
  },
  {
   "cell_type": "code",
   "execution_count": 72,
   "metadata": {},
   "outputs": [],
   "source": [
    "# Loading dataset\n",
    "dataset_path = \"../data/raw/dataset_ecommerce.csv\"\n",
    "df = pd.read_csv(dataset_path)"
   ]
  },
  {
   "cell_type": "code",
   "execution_count": 73,
   "metadata": {},
   "outputs": [
    {
     "name": "stdout",
     "output_type": "stream",
     "text": [
      "         ID  n_clicks  n_visitas  monto_compras  monto_descuentos  \\\n",
      "0  GGNEPpxo     198.0       44.0         3393.0              67.0   \n",
      "1  tRA5byjK     303.0       74.0         3026.3              90.4   \n",
      "2  vWxSsT0V     267.0       60.0         3490.2              80.5   \n",
      "3  sxVV8jGL     177.0       85.0         3525.1              92.7   \n",
      "4  YBs4XIN5     224.0       73.0         2980.9              72.6   \n",
      "\n",
      "   dias_primera_compra  info_perfil  \n",
      "0                241.0        235.0  \n",
      "1                193.0        246.0  \n",
      "2                111.0        220.0  \n",
      "3                142.0        200.0  \n",
      "4                227.0        109.0  \n",
      "           n_clicks     n_visitas  monto_compras  monto_descuentos  \\\n",
      "count  55049.000000  55048.000000   55050.000000      55052.000000   \n",
      "mean     408.723083     94.028702    1748.510134        448.956200   \n",
      "std      175.677082     34.891261    1164.969753        503.152846   \n",
      "min      -21.000000    -20.000000    -123.100000        -27.700000   \n",
      "25%      267.000000     67.000000     749.800000         87.500000   \n",
      "50%      369.000000     87.000000    1380.200000        145.400000   \n",
      "75%      528.000000    117.000000    2787.500000        932.800000   \n",
      "max     1185.000000    258.000000    5621.600000       2214.100000   \n",
      "\n",
      "       dias_primera_compra   info_perfil  \n",
      "count         55055.000000  55047.000000  \n",
      "mean            197.098865    176.211783  \n",
      "std              48.536769     43.640122  \n",
      "min             -16.000000    -15.000000  \n",
      "25%             165.000000    148.000000  \n",
      "50%             197.000000    177.000000  \n",
      "75%             229.000000    205.000000  \n",
      "max             417.000000    358.000000  \n"
     ]
    }
   ],
   "source": [
    "# Viewing data\n",
    "print(df.head())\n",
    "print(df.describe())"
   ]
  },
  {
   "cell_type": "markdown",
   "metadata": {},
   "source": [
    "### Cleaning Data\n",
    "In this section, we will begin by analyzing and handling NaN values."
   ]
  },
  {
   "cell_type": "code",
   "execution_count": 74,
   "metadata": {
    "scrolled": true
   },
   "outputs": [
    {
     "name": "stdout",
     "output_type": "stream",
     "text": [
      "Total NaN values per column:\n",
      "ID                     0\n",
      "n_clicks               7\n",
      "n_visitas              8\n",
      "monto_compras          6\n",
      "monto_descuentos       4\n",
      "dias_primera_compra    1\n",
      "info_perfil            9\n",
      "dtype: int64\n"
     ]
    }
   ],
   "source": [
    "# Viewing NaN values\n",
    "print(\"Total NaN values per column:\")\n",
    "print(df.isna().sum())"
   ]
  },
  {
   "cell_type": "code",
   "execution_count": 75,
   "metadata": {
    "scrolled": true
   },
   "outputs": [
    {
     "name": "stdout",
     "output_type": "stream",
     "text": [
      "             ID  n_clicks  n_visitas  monto_compras  monto_descuentos  \\\n",
      "322    9tJuzqv2     234.0        NaN         2966.3              89.1   \n",
      "575    fxADTnTp     302.0       72.0            NaN              72.9   \n",
      "1794   2gf5Hlv4     320.0       48.0            NaN              88.3   \n",
      "2355   DuIxWNRx     251.0       85.0         3218.3              82.8   \n",
      "4461   m2qRM7GV     201.0       97.0         3290.1              99.0   \n",
      "5145   9gXNhlkr       NaN       84.0         2447.6              99.0   \n",
      "5213   xXneFmSB     213.0       49.0         4715.4              71.1   \n",
      "12176  Aivyl6NW     295.0       53.0            NaN              67.5   \n",
      "12821  wFI0ve3K     237.0        NaN         3416.8              80.8   \n",
      "16540  3rLG6MOc     259.0       78.0         3554.5             106.1   \n",
      "17162  awa5cwh8       NaN       64.0         2939.2              64.6   \n",
      "25421  6beOIYdL     455.0      127.0            NaN            1184.8   \n",
      "25453  yIkbk0y9     607.0        NaN         1546.9            1220.0   \n",
      "26692  VXX86e57       NaN       78.0         1841.5             943.9   \n",
      "27951  44CtUXDA       NaN      137.0         1629.5            1467.6   \n",
      "28411  yZoZbhDU     708.0      159.0            NaN            1891.1   \n",
      "29274  bdWwPeqZ     679.0      118.0         1153.9               NaN   \n",
      "30243  nFR6Nb9u     651.0      126.0         1599.6               NaN   \n",
      "31593  EmxKuekb     728.0      108.0         1767.4            1227.0   \n",
      "35405  oAuY09Si     444.0        NaN          920.1            1242.8   \n",
      "35991  p3QEz4w8     531.0      140.0         1509.1             889.4   \n",
      "36739  2t43iRJl       NaN      104.0          344.9             108.8   \n",
      "37424  qRwHB2FO       NaN       98.0          921.7             137.2   \n",
      "40894  Y5v5Cfm5       NaN      119.0          656.3             147.7   \n",
      "41286  F5HDwZQl     300.0      119.0          639.5             157.1   \n",
      "41763  u3uTwE4a     327.0       42.0          802.4               NaN   \n",
      "43061  7eWUiBnp     506.0      101.0         1011.0             149.3   \n",
      "47362  fB5ROmQw     500.0        NaN          806.8             149.9   \n",
      "47663  bKQWNgmS     451.0       63.0          614.9               NaN   \n",
      "48099  eHW6TQEP     391.0      105.0            NaN             200.3   \n",
      "51214  ODoXBOet     486.0        NaN          499.3             116.9   \n",
      "51891  vgPOW2B5     478.0       80.0          563.5             195.0   \n",
      "52169  6dkx0U2q     305.0        NaN          382.0             139.9   \n",
      "53415  5vK1od0S     554.0        NaN          880.5             133.2   \n",
      "54500  GQ0BO5rS     248.0       81.0          469.8              69.3   \n",
      "\n",
      "       dias_primera_compra  info_perfil  \n",
      "322                  222.0        183.0  \n",
      "575                  192.0        174.0  \n",
      "1794                 145.0        190.0  \n",
      "2355                 239.0          NaN  \n",
      "4461                 182.0          NaN  \n",
      "5145                 126.0        236.0  \n",
      "5213                 263.0          NaN  \n",
      "12176                120.0        177.0  \n",
      "12821                147.0        165.0  \n",
      "16540                171.0          NaN  \n",
      "17162                192.0        160.0  \n",
      "25421                239.0        134.0  \n",
      "25453                120.0        248.0  \n",
      "26692                138.0        182.0  \n",
      "27951                134.0        178.0  \n",
      "28411                234.0        168.0  \n",
      "29274                217.0        190.0  \n",
      "30243                147.0        173.0  \n",
      "31593                183.0          NaN  \n",
      "35405                185.0        153.0  \n",
      "35991                212.0          NaN  \n",
      "36739                237.0        175.0  \n",
      "37424                234.0        214.0  \n",
      "40894                232.0        153.0  \n",
      "41286                  NaN        254.0  \n",
      "41763                214.0        195.0  \n",
      "43061                243.0          NaN  \n",
      "47362                231.0        193.0  \n",
      "47663                 93.0        226.0  \n",
      "48099                240.0        127.0  \n",
      "51214                126.0        204.0  \n",
      "51891                342.0          NaN  \n",
      "52169                216.0        169.0  \n",
      "53415                 77.0        175.0  \n",
      "54500                197.0          NaN  \n"
     ]
    }
   ],
   "source": [
    "# Looking for specific NaN values per column\n",
    "df_with_nulls = df[df.isnull().any(axis=1)]\n",
    "print(df_with_nulls)"
   ]
  },
  {
   "cell_type": "markdown",
   "metadata": {},
   "source": [
    "* NaN values in the `n_clicks` column will be replaced with 0. Because if the client has not made any clicks, the actual value of number of clicks if 0.\n",
    "* NaN values in the `monto_compras` column will be replaced with 0. This is because if the client has not made any purchases, the actual value of the purchases is 0."
   ]
  },
  {
   "cell_type": "code",
   "execution_count": 51,
   "metadata": {},
   "outputs": [
    {
     "name": "stdout",
     "output_type": "stream",
     "text": [
      "           n_clicks     n_visitas  monto_compras  monto_descuentos  \\\n",
      "count  55021.000000  55021.000000   55021.000000      55021.000000   \n",
      "mean     408.719144     94.028771    1748.575528        448.978468   \n",
      "std      175.685122     34.893428    1164.965794        503.140330   \n",
      "min      -21.000000    -20.000000    -123.100000        -27.700000   \n",
      "25%      267.000000     67.000000     749.800000         87.500000   \n",
      "50%      369.000000     87.000000    1380.200000        145.400000   \n",
      "75%      528.000000    117.000000    2787.500000        932.800000   \n",
      "max     1185.000000    258.000000    5621.600000       2214.100000   \n",
      "\n",
      "       dias_primera_compra   info_perfil  \n",
      "count         55021.000000  55021.000000  \n",
      "mean            197.102706    176.207884  \n",
      "std              48.532080     43.644943  \n",
      "min             -16.000000    -15.000000  \n",
      "25%             165.000000    147.000000  \n",
      "50%             197.000000    177.000000  \n",
      "75%             229.000000    205.000000  \n",
      "max             417.000000    358.000000  \n"
     ]
    }
   ],
   "source": [
    "dfc = df.dropna()  # Elimina las filas con valores nulos\n",
    "print(dfc.describe())"
   ]
  },
  {
   "cell_type": "code",
   "execution_count": 54,
   "metadata": {
    "scrolled": true
   },
   "outputs": [
    {
     "data": {
      "image/png": "[encoded data removed]",
      "text/plain": [
       "<Figure size 1000x600 with 1 Axes>"
      ]
     },
     "metadata": {},
     "output_type": "display_data"
    }
   ],
   "source": [
    "plt.figure(figsize=(10,6))\n",
    "plt.boxplot([dfc[\"monto_compras\"]], tick_labels=[\"monto_compras\"])\n",
    "plt.show()"
   ]
  },
  {
   "cell_type": "code",
   "execution_count": null,
   "metadata": {},
   "outputs": [],
   "source": []
  }
 ],
 "metadata": {
  "kernelspec": {
   "display_name": "Python (my_env)",
   "language": "python",
   "name": "my_env"
  },
  "language_info": {
   "codemirror_mode": {
    "name": "ipython",
    "version": 3
   },
   "file_extension": ".py",
   "mimetype": "text/x-python",
   "name": "python",
   "nbconvert_exporter": "python",
   "pygments_lexer": "ipython3",
   "version": "3.10.15"
  }
 },
 "nbformat": 4,
 "nbformat_minor": 4
}
