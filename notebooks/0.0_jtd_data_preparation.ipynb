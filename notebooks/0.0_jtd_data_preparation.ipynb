{
 "cells": [
  {
   "cell_type": "markdown",
   "metadata": {},
   "source": [
    "### **Data Preparation**"
   ]
  },
  {
   "cell_type": "markdown",
   "metadata": {},
   "source": [
    "This section introduces the dataset, describing each column's purpose, expected range, and justification for its values."
   ]
  },
  {
   "cell_type": "markdown",
   "metadata": {},
   "source": [
    "| **Column**              | **Description**                                                                                      | **Expected Range**                | **Justification**                                                                                   |\n",
    "|-------------------------|------------------------------------------------------------------------------------------------------|-----------------------------------|-----------------------------------------------------------------------------------------------------|\n",
    "| **ID**                  | A unique identifier for each customer or transaction.                                                | Unique identifier in **string** format | A unique identifier for each record.                                                                |\n",
    "| **n_clicks**            | The number of clicks made by the user in the online store, indicating interest.                      | Positive values                   | Negative values are nonsensical and should be corrected. Expected range is 0 to 1000 clicks.        |\n",
    "| **n_visitas**           | The number of visits to the online store by a customer.                                              | Positive values                   | Negative values are invalid. Common range is 0 to 300 visits depending on the customer.             |\n",
    "| **monto_compras**       | The total amount spent by the customer in the store.                                                 | Positive values                   | Negative values are not valid. Exceptional values may exceed 5000 monetary units but are valid.     |\n",
    "| **monto_descuentos**    | The total amount of discounts applied to the customer.                                               | Positive values                   | Discounts cannot be negative. They are typically based on a percentage of the total purchase.       |\n",
    "| **dias_primera_compra** | The number of days since the customer's first purchase.                                             | Positive values                   | Negative values are not possible. Expected range is from 0 to 500 days.                            |\n",
    "| **info_perfil**         | Classification of customers into profiles based on behavior or characteristics.                      | Integers between 100 and 350      | Negative values are illogical and should be corrected. This field categorizes customers by behavior. |"
   ]
  },
  {
   "cell_type": "code",
   "execution_count": 29,
   "metadata": {},
   "outputs": [],
   "source": [
    "import sys\n",
    "import os\n",
    "sys.path.append(os.path.abspath(\"..\")) \n",
    "from customer_segmentation.dataset import load_dataset, save_dataset\n",
    "from customer_segmentation.data_cleaning import summarize_nulls, filter_nulls,summarize_negatives, filter_negatives,summarize_zeros, filter_zeros,remove_nulls, remove_negatives, remove_zeros\n",
    "from customer_segmentation.plot import plot_boxplot"
   ]
  },
  {
   "cell_type": "code",
   "execution_count": 30,
   "metadata": {},
   "outputs": [],
   "source": [
    "# Loading dataset\n",
    "dataset_path = \"../data/raw/dataset_ecommerce.csv\"\n",
    "df = load_dataset(dataset_path)"
   ]
  },
  {
   "cell_type": "markdown",
   "metadata": {},
   "source": [
    "#### **Initial Data Inspection**"
   ]
  },
  {
   "cell_type": "markdown",
   "metadata": {},
   "source": [
    "This section focuses on exploring the dataset structure by displaying initial and final records to identify potential issues or inconsistencies."
   ]
  },
  {
   "cell_type": "code",
   "execution_count": 31,
   "metadata": {},
   "outputs": [
    {
     "data": {
      "text/html": [
       "<div>\n",
       "<style scoped>\n",
       "    .dataframe tbody tr th:only-of-type {\n",
       "        vertical-align: middle;\n",
       "    }\n",
       "\n",
       "    .dataframe tbody tr th {\n",
       "        vertical-align: top;\n",
       "    }\n",
       "\n",
       "    .dataframe thead th {\n",
       "        text-align: right;\n",
       "    }\n",
       "</style>\n",
       "<table border=\"1\" class=\"dataframe\">\n",
       "  <thead>\n",
       "    <tr style=\"text-align: right;\">\n",
       "      <th></th>\n",
       "      <th>ID</th>\n",
       "      <th>n_clicks</th>\n",
       "      <th>n_visitas</th>\n",
       "      <th>monto_compras</th>\n",
       "      <th>monto_descuentos</th>\n",
       "      <th>dias_primera_compra</th>\n",
       "      <th>info_perfil</th>\n",
       "    </tr>\n",
       "  </thead>\n",
       "  <tbody>\n",
       "    <tr>\n",
       "      <th>0</th>\n",
       "      <td>GGNEPpxo</td>\n",
       "      <td>198.0</td>\n",
       "      <td>44.0</td>\n",
       "      <td>3393.0</td>\n",
       "      <td>67.0</td>\n",
       "      <td>241.0</td>\n",
       "      <td>235.0</td>\n",
       "    </tr>\n",
       "    <tr>\n",
       "      <th>1</th>\n",
       "      <td>tRA5byjK</td>\n",
       "      <td>303.0</td>\n",
       "      <td>74.0</td>\n",
       "      <td>3026.3</td>\n",
       "      <td>90.4</td>\n",
       "      <td>193.0</td>\n",
       "      <td>246.0</td>\n",
       "    </tr>\n",
       "    <tr>\n",
       "      <th>2</th>\n",
       "      <td>vWxSsT0V</td>\n",
       "      <td>267.0</td>\n",
       "      <td>60.0</td>\n",
       "      <td>3490.2</td>\n",
       "      <td>80.5</td>\n",
       "      <td>111.0</td>\n",
       "      <td>220.0</td>\n",
       "    </tr>\n",
       "    <tr>\n",
       "      <th>3</th>\n",
       "      <td>sxVV8jGL</td>\n",
       "      <td>177.0</td>\n",
       "      <td>85.0</td>\n",
       "      <td>3525.1</td>\n",
       "      <td>92.7</td>\n",
       "      <td>142.0</td>\n",
       "      <td>200.0</td>\n",
       "    </tr>\n",
       "    <tr>\n",
       "      <th>4</th>\n",
       "      <td>YBs4XIN5</td>\n",
       "      <td>224.0</td>\n",
       "      <td>73.0</td>\n",
       "      <td>2980.9</td>\n",
       "      <td>72.6</td>\n",
       "      <td>227.0</td>\n",
       "      <td>109.0</td>\n",
       "    </tr>\n",
       "  </tbody>\n",
       "</table>\n",
       "</div>"
      ],
      "text/plain": [
       "         ID  n_clicks  n_visitas  monto_compras  monto_descuentos  \\\n",
       "0  GGNEPpxo     198.0       44.0         3393.0              67.0   \n",
       "1  tRA5byjK     303.0       74.0         3026.3              90.4   \n",
       "2  vWxSsT0V     267.0       60.0         3490.2              80.5   \n",
       "3  sxVV8jGL     177.0       85.0         3525.1              92.7   \n",
       "4  YBs4XIN5     224.0       73.0         2980.9              72.6   \n",
       "\n",
       "   dias_primera_compra  info_perfil  \n",
       "0                241.0        235.0  \n",
       "1                193.0        246.0  \n",
       "2                111.0        220.0  \n",
       "3                142.0        200.0  \n",
       "4                227.0        109.0  "
      ]
     },
     "execution_count": 31,
     "metadata": {},
     "output_type": "execute_result"
    }
   ],
   "source": [
    "# Viewing data\n",
    "df.head()"
   ]
  },
  {
   "cell_type": "code",
   "execution_count": 32,
   "metadata": {},
   "outputs": [
    {
     "data": {
      "text/html": [
       "<div>\n",
       "<style scoped>\n",
       "    .dataframe tbody tr th:only-of-type {\n",
       "        vertical-align: middle;\n",
       "    }\n",
       "\n",
       "    .dataframe tbody tr th {\n",
       "        vertical-align: top;\n",
       "    }\n",
       "\n",
       "    .dataframe thead th {\n",
       "        text-align: right;\n",
       "    }\n",
       "</style>\n",
       "<table border=\"1\" class=\"dataframe\">\n",
       "  <thead>\n",
       "    <tr style=\"text-align: right;\">\n",
       "      <th></th>\n",
       "      <th>ID</th>\n",
       "      <th>n_clicks</th>\n",
       "      <th>n_visitas</th>\n",
       "      <th>monto_compras</th>\n",
       "      <th>monto_descuentos</th>\n",
       "      <th>dias_primera_compra</th>\n",
       "      <th>info_perfil</th>\n",
       "    </tr>\n",
       "  </thead>\n",
       "  <tbody>\n",
       "    <tr>\n",
       "      <th>55051</th>\n",
       "      <td>dDUYxBmO</td>\n",
       "      <td>340.0</td>\n",
       "      <td>80.0</td>\n",
       "      <td>601.0</td>\n",
       "      <td>147.2</td>\n",
       "      <td>201.0</td>\n",
       "      <td>149.0</td>\n",
       "    </tr>\n",
       "    <tr>\n",
       "      <th>55052</th>\n",
       "      <td>RIVOxIid</td>\n",
       "      <td>376.0</td>\n",
       "      <td>91.0</td>\n",
       "      <td>1007.5</td>\n",
       "      <td>174.0</td>\n",
       "      <td>226.0</td>\n",
       "      <td>150.0</td>\n",
       "    </tr>\n",
       "    <tr>\n",
       "      <th>55053</th>\n",
       "      <td>drs3JLHK</td>\n",
       "      <td>416.0</td>\n",
       "      <td>52.0</td>\n",
       "      <td>753.1</td>\n",
       "      <td>113.0</td>\n",
       "      <td>188.0</td>\n",
       "      <td>241.0</td>\n",
       "    </tr>\n",
       "    <tr>\n",
       "      <th>55054</th>\n",
       "      <td>VwC0SosV</td>\n",
       "      <td>457.0</td>\n",
       "      <td>60.0</td>\n",
       "      <td>223.2</td>\n",
       "      <td>111.8</td>\n",
       "      <td>199.0</td>\n",
       "      <td>117.0</td>\n",
       "    </tr>\n",
       "    <tr>\n",
       "      <th>55055</th>\n",
       "      <td>QpvBVWDL</td>\n",
       "      <td>356.0</td>\n",
       "      <td>142.0</td>\n",
       "      <td>816.5</td>\n",
       "      <td>172.7</td>\n",
       "      <td>184.0</td>\n",
       "      <td>194.0</td>\n",
       "    </tr>\n",
       "  </tbody>\n",
       "</table>\n",
       "</div>"
      ],
      "text/plain": [
       "             ID  n_clicks  n_visitas  monto_compras  monto_descuentos  \\\n",
       "55051  dDUYxBmO     340.0       80.0          601.0             147.2   \n",
       "55052  RIVOxIid     376.0       91.0         1007.5             174.0   \n",
       "55053  drs3JLHK     416.0       52.0          753.1             113.0   \n",
       "55054  VwC0SosV     457.0       60.0          223.2             111.8   \n",
       "55055  QpvBVWDL     356.0      142.0          816.5             172.7   \n",
       "\n",
       "       dias_primera_compra  info_perfil  \n",
       "55051                201.0        149.0  \n",
       "55052                226.0        150.0  \n",
       "55053                188.0        241.0  \n",
       "55054                199.0        117.0  \n",
       "55055                184.0        194.0  "
      ]
     },
     "execution_count": 32,
     "metadata": {},
     "output_type": "execute_result"
    }
   ],
   "source": [
    "df.tail()"
   ]
  },
  {
   "cell_type": "markdown",
   "metadata": {},
   "source": [
    "\n",
    "Observing these two samples, each consisting of 5 records, it is possible to verify that there are apparently no anomalous records with null or negative values. However, this is not sufficient to rule out their existence. Therefore, a more general approach will be applied."
   ]
  },
  {
   "cell_type": "code",
   "execution_count": 33,
   "metadata": {},
   "outputs": [
    {
     "name": "stdout",
     "output_type": "stream",
     "text": [
      "<class 'pandas.core.frame.DataFrame'>\n",
      "RangeIndex: 55056 entries, 0 to 55055\n",
      "Data columns (total 7 columns):\n",
      " #   Column               Non-Null Count  Dtype  \n",
      "---  ------               --------------  -----  \n",
      " 0   ID                   55056 non-null  object \n",
      " 1   n_clicks             55049 non-null  float64\n",
      " 2   n_visitas            55048 non-null  float64\n",
      " 3   monto_compras        55050 non-null  float64\n",
      " 4   monto_descuentos     55052 non-null  float64\n",
      " 5   dias_primera_compra  55055 non-null  float64\n",
      " 6   info_perfil          55047 non-null  float64\n",
      "dtypes: float64(6), object(1)\n",
      "memory usage: 2.9+ MB\n"
     ]
    }
   ],
   "source": [
    "df.info()"
   ]
  },
  {
   "cell_type": "markdown",
   "metadata": {},
   "source": [
    "This initial approach shows that there are indeed anomalous records containing null values. The only column that does not include any null values is the ``ID`` column, while all others contain at least one, as the count of their non-null values differs from the total number of records."
   ]
  },
  {
   "cell_type": "markdown",
   "metadata": {},
   "source": [
    "#### **Data Statistics**"
   ]
  },
  {
   "cell_type": "markdown",
   "metadata": {},
   "source": [
    "This section provides a summary of the dataset's key statistical properties, including counts, means, and distributions for all columns."
   ]
  },
  {
   "cell_type": "code",
   "execution_count": 34,
   "metadata": {},
   "outputs": [
    {
     "data": {
      "text/html": [
       "<div>\n",
       "<style scoped>\n",
       "    .dataframe tbody tr th:only-of-type {\n",
       "        vertical-align: middle;\n",
       "    }\n",
       "\n",
       "    .dataframe tbody tr th {\n",
       "        vertical-align: top;\n",
       "    }\n",
       "\n",
       "    .dataframe thead th {\n",
       "        text-align: right;\n",
       "    }\n",
       "</style>\n",
       "<table border=\"1\" class=\"dataframe\">\n",
       "  <thead>\n",
       "    <tr style=\"text-align: right;\">\n",
       "      <th></th>\n",
       "      <th>n_clicks</th>\n",
       "      <th>n_visitas</th>\n",
       "      <th>monto_compras</th>\n",
       "      <th>monto_descuentos</th>\n",
       "      <th>dias_primera_compra</th>\n",
       "      <th>info_perfil</th>\n",
       "    </tr>\n",
       "  </thead>\n",
       "  <tbody>\n",
       "    <tr>\n",
       "      <th>count</th>\n",
       "      <td>55049.000000</td>\n",
       "      <td>55048.000000</td>\n",
       "      <td>55050.000000</td>\n",
       "      <td>55052.000000</td>\n",
       "      <td>55055.000000</td>\n",
       "      <td>55047.000000</td>\n",
       "    </tr>\n",
       "    <tr>\n",
       "      <th>mean</th>\n",
       "      <td>408.723083</td>\n",
       "      <td>94.028702</td>\n",
       "      <td>1748.510134</td>\n",
       "      <td>448.956200</td>\n",
       "      <td>197.098865</td>\n",
       "      <td>176.211783</td>\n",
       "    </tr>\n",
       "    <tr>\n",
       "      <th>std</th>\n",
       "      <td>175.677082</td>\n",
       "      <td>34.891261</td>\n",
       "      <td>1164.969753</td>\n",
       "      <td>503.152846</td>\n",
       "      <td>48.536769</td>\n",
       "      <td>43.640122</td>\n",
       "    </tr>\n",
       "    <tr>\n",
       "      <th>min</th>\n",
       "      <td>-21.000000</td>\n",
       "      <td>-20.000000</td>\n",
       "      <td>-123.100000</td>\n",
       "      <td>-27.700000</td>\n",
       "      <td>-16.000000</td>\n",
       "      <td>-15.000000</td>\n",
       "    </tr>\n",
       "    <tr>\n",
       "      <th>25%</th>\n",
       "      <td>267.000000</td>\n",
       "      <td>67.000000</td>\n",
       "      <td>749.800000</td>\n",
       "      <td>87.500000</td>\n",
       "      <td>165.000000</td>\n",
       "      <td>148.000000</td>\n",
       "    </tr>\n",
       "    <tr>\n",
       "      <th>50%</th>\n",
       "      <td>369.000000</td>\n",
       "      <td>87.000000</td>\n",
       "      <td>1380.200000</td>\n",
       "      <td>145.400000</td>\n",
       "      <td>197.000000</td>\n",
       "      <td>177.000000</td>\n",
       "    </tr>\n",
       "    <tr>\n",
       "      <th>75%</th>\n",
       "      <td>528.000000</td>\n",
       "      <td>117.000000</td>\n",
       "      <td>2787.500000</td>\n",
       "      <td>932.800000</td>\n",
       "      <td>229.000000</td>\n",
       "      <td>205.000000</td>\n",
       "    </tr>\n",
       "    <tr>\n",
       "      <th>max</th>\n",
       "      <td>1185.000000</td>\n",
       "      <td>258.000000</td>\n",
       "      <td>5621.600000</td>\n",
       "      <td>2214.100000</td>\n",
       "      <td>417.000000</td>\n",
       "      <td>358.000000</td>\n",
       "    </tr>\n",
       "  </tbody>\n",
       "</table>\n",
       "</div>"
      ],
      "text/plain": [
       "           n_clicks     n_visitas  monto_compras  monto_descuentos  \\\n",
       "count  55049.000000  55048.000000   55050.000000      55052.000000   \n",
       "mean     408.723083     94.028702    1748.510134        448.956200   \n",
       "std      175.677082     34.891261    1164.969753        503.152846   \n",
       "min      -21.000000    -20.000000    -123.100000        -27.700000   \n",
       "25%      267.000000     67.000000     749.800000         87.500000   \n",
       "50%      369.000000     87.000000    1380.200000        145.400000   \n",
       "75%      528.000000    117.000000    2787.500000        932.800000   \n",
       "max     1185.000000    258.000000    5621.600000       2214.100000   \n",
       "\n",
       "       dias_primera_compra   info_perfil  \n",
       "count         55055.000000  55047.000000  \n",
       "mean            197.098865    176.211783  \n",
       "std              48.536769     43.640122  \n",
       "min             -16.000000    -15.000000  \n",
       "25%             165.000000    148.000000  \n",
       "50%             197.000000    177.000000  \n",
       "75%             229.000000    205.000000  \n",
       "max             417.000000    358.000000  "
      ]
     },
     "execution_count": 34,
     "metadata": {},
     "output_type": "execute_result"
    }
   ],
   "source": [
    "df.describe()"
   ]
  },
  {
   "cell_type": "markdown",
   "metadata": {},
   "source": [
    "On the other hand, this second approach confirms the presence of anomalous records containing negative values. All numeric columns include at least one negative value, as their minimum values are expected to be positive according to business logic.\n",
    "\n",
    "Additionally, it is evident that all columns have a high standard deviation. This indicates that the values within their distributions are highly dispersed relative to their means.\n",
    "\n",
    "However, the columns ``n_clicks``, ``n_visitas``, ``monto_compras``, and ``monto_descuentos`` exhibit the most asymmetric distributions, as their means and medians differ significantly from one another."
   ]
  },
  {
   "cell_type": "code",
   "execution_count": 35,
   "metadata": {},
   "outputs": [
    {
     "data": {
      "image/png": "[encoded data removed]",
      "text/plain": [
       "<Figure size 1200x600 with 1 Axes>"
      ]
     },
     "metadata": {},
     "output_type": "display_data"
    }
   ],
   "source": [
    "# Viewing the distributions of all columns\n",
    "plot_boxplot(df)"
   ]
  },
  {
   "cell_type": "markdown",
   "metadata": {},
   "source": [
    "Now, based on this graph, the previously mentioned observations can be confirmed. Indeed, each numeric column contains at least one negative value, as their distributions display a lower whisker or a value below the origin.\n",
    "\n",
    "Additionally, the columns ``n_clicks``, ``n_visitas``, ``monto_compras``, and ``monto_descuentos`` exhibit asymmetric distributions. This is either because most of their regular values are concentrated within a specific range or due to the presence of outliers concentrated on one of the two whiskers."
   ]
  },
  {
   "cell_type": "markdown",
   "metadata": {},
   "source": [
    "##### **Key Observations**"
   ]
  },
  {
   "cell_type": "markdown",
   "metadata": {},
   "source": [
    "- All numeric columns have negative values, which contradict business logic.\n",
    "- High skewness is observed in the distributions of `n_clicks`, `n_visitas`, `monto_compras`, and `monto_descuentos`.\n",
    "- The presence of negative minimum values and high dispersion suggests potential errors or anomalies in the data."
   ]
  },
  {
   "cell_type": "markdown",
   "metadata": {},
   "source": [
    "#### **Null Values Analysis**"
   ]
  },
  {
   "cell_type": "markdown",
   "metadata": {},
   "source": [
    "This section examines the presence of null values across the dataset, identifying problematic records and discussing strategies to address them."
   ]
  },
  {
   "cell_type": "code",
   "execution_count": 36,
   "metadata": {
    "scrolled": true
   },
   "outputs": [
    {
     "name": "stdout",
     "output_type": "stream",
     "text": [
      "Total NaN values per column:\n",
      "ID                     0\n",
      "n_clicks               7\n",
      "n_visitas              8\n",
      "monto_compras          6\n",
      "monto_descuentos       4\n",
      "dias_primera_compra    1\n",
      "info_perfil            9\n",
      "dtype: int64\n"
     ]
    }
   ],
   "source": [
    "# Viewing NaN values\n",
    "summarize_nulls(df)"
   ]
  },
  {
   "cell_type": "markdown",
   "metadata": {},
   "source": [
    "Visualizing the number of null values per column confirms the observations from the initial approach. Indeed, there are anomalous records containing null values, while the only column without any null values is the ``ID`` column."
   ]
  },
  {
   "cell_type": "markdown",
   "metadata": {},
   "source": [
    "##### **Looking for especific NaN values per columns**"
   ]
  },
  {
   "cell_type": "code",
   "execution_count": 37,
   "metadata": {
    "scrolled": true
   },
   "outputs": [
    {
     "data": {
      "text/html": [
       "<div>\n",
       "<style scoped>\n",
       "    .dataframe tbody tr th:only-of-type {\n",
       "        vertical-align: middle;\n",
       "    }\n",
       "\n",
       "    .dataframe tbody tr th {\n",
       "        vertical-align: top;\n",
       "    }\n",
       "\n",
       "    .dataframe thead th {\n",
       "        text-align: right;\n",
       "    }\n",
       "</style>\n",
       "<table border=\"1\" class=\"dataframe\">\n",
       "  <thead>\n",
       "    <tr style=\"text-align: right;\">\n",
       "      <th></th>\n",
       "      <th>ID</th>\n",
       "      <th>n_clicks</th>\n",
       "      <th>n_visitas</th>\n",
       "      <th>monto_compras</th>\n",
       "      <th>monto_descuentos</th>\n",
       "      <th>dias_primera_compra</th>\n",
       "      <th>info_perfil</th>\n",
       "    </tr>\n",
       "  </thead>\n",
       "  <tbody>\n",
       "    <tr>\n",
       "      <th>5145</th>\n",
       "      <td>9gXNhlkr</td>\n",
       "      <td>NaN</td>\n",
       "      <td>84.0</td>\n",
       "      <td>2447.6</td>\n",
       "      <td>99.0</td>\n",
       "      <td>126.0</td>\n",
       "      <td>236.0</td>\n",
       "    </tr>\n",
       "    <tr>\n",
       "      <th>17162</th>\n",
       "      <td>awa5cwh8</td>\n",
       "      <td>NaN</td>\n",
       "      <td>64.0</td>\n",
       "      <td>2939.2</td>\n",
       "      <td>64.6</td>\n",
       "      <td>192.0</td>\n",
       "      <td>160.0</td>\n",
       "    </tr>\n",
       "    <tr>\n",
       "      <th>26692</th>\n",
       "      <td>VXX86e57</td>\n",
       "      <td>NaN</td>\n",
       "      <td>78.0</td>\n",
       "      <td>1841.5</td>\n",
       "      <td>943.9</td>\n",
       "      <td>138.0</td>\n",
       "      <td>182.0</td>\n",
       "    </tr>\n",
       "    <tr>\n",
       "      <th>27951</th>\n",
       "      <td>44CtUXDA</td>\n",
       "      <td>NaN</td>\n",
       "      <td>137.0</td>\n",
       "      <td>1629.5</td>\n",
       "      <td>1467.6</td>\n",
       "      <td>134.0</td>\n",
       "      <td>178.0</td>\n",
       "    </tr>\n",
       "    <tr>\n",
       "      <th>36739</th>\n",
       "      <td>2t43iRJl</td>\n",
       "      <td>NaN</td>\n",
       "      <td>104.0</td>\n",
       "      <td>344.9</td>\n",
       "      <td>108.8</td>\n",
       "      <td>237.0</td>\n",
       "      <td>175.0</td>\n",
       "    </tr>\n",
       "    <tr>\n",
       "      <th>37424</th>\n",
       "      <td>qRwHB2FO</td>\n",
       "      <td>NaN</td>\n",
       "      <td>98.0</td>\n",
       "      <td>921.7</td>\n",
       "      <td>137.2</td>\n",
       "      <td>234.0</td>\n",
       "      <td>214.0</td>\n",
       "    </tr>\n",
       "    <tr>\n",
       "      <th>40894</th>\n",
       "      <td>Y5v5Cfm5</td>\n",
       "      <td>NaN</td>\n",
       "      <td>119.0</td>\n",
       "      <td>656.3</td>\n",
       "      <td>147.7</td>\n",
       "      <td>232.0</td>\n",
       "      <td>153.0</td>\n",
       "    </tr>\n",
       "  </tbody>\n",
       "</table>\n",
       "</div>"
      ],
      "text/plain": [
       "             ID  n_clicks  n_visitas  monto_compras  monto_descuentos  \\\n",
       "5145   9gXNhlkr       NaN       84.0         2447.6              99.0   \n",
       "17162  awa5cwh8       NaN       64.0         2939.2              64.6   \n",
       "26692  VXX86e57       NaN       78.0         1841.5             943.9   \n",
       "27951  44CtUXDA       NaN      137.0         1629.5            1467.6   \n",
       "36739  2t43iRJl       NaN      104.0          344.9             108.8   \n",
       "37424  qRwHB2FO       NaN       98.0          921.7             137.2   \n",
       "40894  Y5v5Cfm5       NaN      119.0          656.3             147.7   \n",
       "\n",
       "       dias_primera_compra  info_perfil  \n",
       "5145                 126.0        236.0  \n",
       "17162                192.0        160.0  \n",
       "26692                138.0        182.0  \n",
       "27951                134.0        178.0  \n",
       "36739                237.0        175.0  \n",
       "37424                234.0        214.0  \n",
       "40894                232.0        153.0  "
      ]
     },
     "execution_count": 37,
     "metadata": {},
     "output_type": "execute_result"
    }
   ],
   "source": [
    "# Looking NaN values in n_clicks column\n",
    "filter_nulls(df, \"n_clicks\")"
   ]
  },
  {
   "cell_type": "code",
   "execution_count": 38,
   "metadata": {},
   "outputs": [
    {
     "data": {
      "text/html": [
       "<div>\n",
       "<style scoped>\n",
       "    .dataframe tbody tr th:only-of-type {\n",
       "        vertical-align: middle;\n",
       "    }\n",
       "\n",
       "    .dataframe tbody tr th {\n",
       "        vertical-align: top;\n",
       "    }\n",
       "\n",
       "    .dataframe thead th {\n",
       "        text-align: right;\n",
       "    }\n",
       "</style>\n",
       "<table border=\"1\" class=\"dataframe\">\n",
       "  <thead>\n",
       "    <tr style=\"text-align: right;\">\n",
       "      <th></th>\n",
       "      <th>ID</th>\n",
       "      <th>n_clicks</th>\n",
       "      <th>n_visitas</th>\n",
       "      <th>monto_compras</th>\n",
       "      <th>monto_descuentos</th>\n",
       "      <th>dias_primera_compra</th>\n",
       "      <th>info_perfil</th>\n",
       "    </tr>\n",
       "  </thead>\n",
       "  <tbody>\n",
       "    <tr>\n",
       "      <th>322</th>\n",
       "      <td>9tJuzqv2</td>\n",
       "      <td>234.0</td>\n",
       "      <td>NaN</td>\n",
       "      <td>2966.3</td>\n",
       "      <td>89.1</td>\n",
       "      <td>222.0</td>\n",
       "      <td>183.0</td>\n",
       "    </tr>\n",
       "    <tr>\n",
       "      <th>12821</th>\n",
       "      <td>wFI0ve3K</td>\n",
       "      <td>237.0</td>\n",
       "      <td>NaN</td>\n",
       "      <td>3416.8</td>\n",
       "      <td>80.8</td>\n",
       "      <td>147.0</td>\n",
       "      <td>165.0</td>\n",
       "    </tr>\n",
       "    <tr>\n",
       "      <th>25453</th>\n",
       "      <td>yIkbk0y9</td>\n",
       "      <td>607.0</td>\n",
       "      <td>NaN</td>\n",
       "      <td>1546.9</td>\n",
       "      <td>1220.0</td>\n",
       "      <td>120.0</td>\n",
       "      <td>248.0</td>\n",
       "    </tr>\n",
       "    <tr>\n",
       "      <th>35405</th>\n",
       "      <td>oAuY09Si</td>\n",
       "      <td>444.0</td>\n",
       "      <td>NaN</td>\n",
       "      <td>920.1</td>\n",
       "      <td>1242.8</td>\n",
       "      <td>185.0</td>\n",
       "      <td>153.0</td>\n",
       "    </tr>\n",
       "    <tr>\n",
       "      <th>47362</th>\n",
       "      <td>fB5ROmQw</td>\n",
       "      <td>500.0</td>\n",
       "      <td>NaN</td>\n",
       "      <td>806.8</td>\n",
       "      <td>149.9</td>\n",
       "      <td>231.0</td>\n",
       "      <td>193.0</td>\n",
       "    </tr>\n",
       "    <tr>\n",
       "      <th>51214</th>\n",
       "      <td>ODoXBOet</td>\n",
       "      <td>486.0</td>\n",
       "      <td>NaN</td>\n",
       "      <td>499.3</td>\n",
       "      <td>116.9</td>\n",
       "      <td>126.0</td>\n",
       "      <td>204.0</td>\n",
       "    </tr>\n",
       "    <tr>\n",
       "      <th>52169</th>\n",
       "      <td>6dkx0U2q</td>\n",
       "      <td>305.0</td>\n",
       "      <td>NaN</td>\n",
       "      <td>382.0</td>\n",
       "      <td>139.9</td>\n",
       "      <td>216.0</td>\n",
       "      <td>169.0</td>\n",
       "    </tr>\n",
       "    <tr>\n",
       "      <th>53415</th>\n",
       "      <td>5vK1od0S</td>\n",
       "      <td>554.0</td>\n",
       "      <td>NaN</td>\n",
       "      <td>880.5</td>\n",
       "      <td>133.2</td>\n",
       "      <td>77.0</td>\n",
       "      <td>175.0</td>\n",
       "    </tr>\n",
       "  </tbody>\n",
       "</table>\n",
       "</div>"
      ],
      "text/plain": [
       "             ID  n_clicks  n_visitas  monto_compras  monto_descuentos  \\\n",
       "322    9tJuzqv2     234.0        NaN         2966.3              89.1   \n",
       "12821  wFI0ve3K     237.0        NaN         3416.8              80.8   \n",
       "25453  yIkbk0y9     607.0        NaN         1546.9            1220.0   \n",
       "35405  oAuY09Si     444.0        NaN          920.1            1242.8   \n",
       "47362  fB5ROmQw     500.0        NaN          806.8             149.9   \n",
       "51214  ODoXBOet     486.0        NaN          499.3             116.9   \n",
       "52169  6dkx0U2q     305.0        NaN          382.0             139.9   \n",
       "53415  5vK1od0S     554.0        NaN          880.5             133.2   \n",
       "\n",
       "       dias_primera_compra  info_perfil  \n",
       "322                  222.0        183.0  \n",
       "12821                147.0        165.0  \n",
       "25453                120.0        248.0  \n",
       "35405                185.0        153.0  \n",
       "47362                231.0        193.0  \n",
       "51214                126.0        204.0  \n",
       "52169                216.0        169.0  \n",
       "53415                 77.0        175.0  "
      ]
     },
     "execution_count": 38,
     "metadata": {},
     "output_type": "execute_result"
    }
   ],
   "source": [
    "# Looking NaN values in n_visitas column\n",
    "filter_nulls(df, \"n_visitas\")"
   ]
  },
  {
   "cell_type": "code",
   "execution_count": 39,
   "metadata": {},
   "outputs": [
    {
     "data": {
      "text/html": [
       "<div>\n",
       "<style scoped>\n",
       "    .dataframe tbody tr th:only-of-type {\n",
       "        vertical-align: middle;\n",
       "    }\n",
       "\n",
       "    .dataframe tbody tr th {\n",
       "        vertical-align: top;\n",
       "    }\n",
       "\n",
       "    .dataframe thead th {\n",
       "        text-align: right;\n",
       "    }\n",
       "</style>\n",
       "<table border=\"1\" class=\"dataframe\">\n",
       "  <thead>\n",
       "    <tr style=\"text-align: right;\">\n",
       "      <th></th>\n",
       "      <th>ID</th>\n",
       "      <th>n_clicks</th>\n",
       "      <th>n_visitas</th>\n",
       "      <th>monto_compras</th>\n",
       "      <th>monto_descuentos</th>\n",
       "      <th>dias_primera_compra</th>\n",
       "      <th>info_perfil</th>\n",
       "    </tr>\n",
       "  </thead>\n",
       "  <tbody>\n",
       "    <tr>\n",
       "      <th>575</th>\n",
       "      <td>fxADTnTp</td>\n",
       "      <td>302.0</td>\n",
       "      <td>72.0</td>\n",
       "      <td>NaN</td>\n",
       "      <td>72.9</td>\n",
       "      <td>192.0</td>\n",
       "      <td>174.0</td>\n",
       "    </tr>\n",
       "    <tr>\n",
       "      <th>1794</th>\n",
       "      <td>2gf5Hlv4</td>\n",
       "      <td>320.0</td>\n",
       "      <td>48.0</td>\n",
       "      <td>NaN</td>\n",
       "      <td>88.3</td>\n",
       "      <td>145.0</td>\n",
       "      <td>190.0</td>\n",
       "    </tr>\n",
       "    <tr>\n",
       "      <th>12176</th>\n",
       "      <td>Aivyl6NW</td>\n",
       "      <td>295.0</td>\n",
       "      <td>53.0</td>\n",
       "      <td>NaN</td>\n",
       "      <td>67.5</td>\n",
       "      <td>120.0</td>\n",
       "      <td>177.0</td>\n",
       "    </tr>\n",
       "    <tr>\n",
       "      <th>25421</th>\n",
       "      <td>6beOIYdL</td>\n",
       "      <td>455.0</td>\n",
       "      <td>127.0</td>\n",
       "      <td>NaN</td>\n",
       "      <td>1184.8</td>\n",
       "      <td>239.0</td>\n",
       "      <td>134.0</td>\n",
       "    </tr>\n",
       "    <tr>\n",
       "      <th>28411</th>\n",
       "      <td>yZoZbhDU</td>\n",
       "      <td>708.0</td>\n",
       "      <td>159.0</td>\n",
       "      <td>NaN</td>\n",
       "      <td>1891.1</td>\n",
       "      <td>234.0</td>\n",
       "      <td>168.0</td>\n",
       "    </tr>\n",
       "    <tr>\n",
       "      <th>48099</th>\n",
       "      <td>eHW6TQEP</td>\n",
       "      <td>391.0</td>\n",
       "      <td>105.0</td>\n",
       "      <td>NaN</td>\n",
       "      <td>200.3</td>\n",
       "      <td>240.0</td>\n",
       "      <td>127.0</td>\n",
       "    </tr>\n",
       "  </tbody>\n",
       "</table>\n",
       "</div>"
      ],
      "text/plain": [
       "             ID  n_clicks  n_visitas  monto_compras  monto_descuentos  \\\n",
       "575    fxADTnTp     302.0       72.0            NaN              72.9   \n",
       "1794   2gf5Hlv4     320.0       48.0            NaN              88.3   \n",
       "12176  Aivyl6NW     295.0       53.0            NaN              67.5   \n",
       "25421  6beOIYdL     455.0      127.0            NaN            1184.8   \n",
       "28411  yZoZbhDU     708.0      159.0            NaN            1891.1   \n",
       "48099  eHW6TQEP     391.0      105.0            NaN             200.3   \n",
       "\n",
       "       dias_primera_compra  info_perfil  \n",
       "575                  192.0        174.0  \n",
       "1794                 145.0        190.0  \n",
       "12176                120.0        177.0  \n",
       "25421                239.0        134.0  \n",
       "28411                234.0        168.0  \n",
       "48099                240.0        127.0  "
      ]
     },
     "execution_count": 39,
     "metadata": {},
     "output_type": "execute_result"
    }
   ],
   "source": [
    "# Looking NaN values in monto_compras column\n",
    "filter_nulls(df, \"monto_compras\")\n"
   ]
  },
  {
   "cell_type": "code",
   "execution_count": 40,
   "metadata": {},
   "outputs": [
    {
     "data": {
      "text/html": [
       "<div>\n",
       "<style scoped>\n",
       "    .dataframe tbody tr th:only-of-type {\n",
       "        vertical-align: middle;\n",
       "    }\n",
       "\n",
       "    .dataframe tbody tr th {\n",
       "        vertical-align: top;\n",
       "    }\n",
       "\n",
       "    .dataframe thead th {\n",
       "        text-align: right;\n",
       "    }\n",
       "</style>\n",
       "<table border=\"1\" class=\"dataframe\">\n",
       "  <thead>\n",
       "    <tr style=\"text-align: right;\">\n",
       "      <th></th>\n",
       "      <th>ID</th>\n",
       "      <th>n_clicks</th>\n",
       "      <th>n_visitas</th>\n",
       "      <th>monto_compras</th>\n",
       "      <th>monto_descuentos</th>\n",
       "      <th>dias_primera_compra</th>\n",
       "      <th>info_perfil</th>\n",
       "    </tr>\n",
       "  </thead>\n",
       "  <tbody>\n",
       "    <tr>\n",
       "      <th>29274</th>\n",
       "      <td>bdWwPeqZ</td>\n",
       "      <td>679.0</td>\n",
       "      <td>118.0</td>\n",
       "      <td>1153.9</td>\n",
       "      <td>NaN</td>\n",
       "      <td>217.0</td>\n",
       "      <td>190.0</td>\n",
       "    </tr>\n",
       "    <tr>\n",
       "      <th>30243</th>\n",
       "      <td>nFR6Nb9u</td>\n",
       "      <td>651.0</td>\n",
       "      <td>126.0</td>\n",
       "      <td>1599.6</td>\n",
       "      <td>NaN</td>\n",
       "      <td>147.0</td>\n",
       "      <td>173.0</td>\n",
       "    </tr>\n",
       "    <tr>\n",
       "      <th>41763</th>\n",
       "      <td>u3uTwE4a</td>\n",
       "      <td>327.0</td>\n",
       "      <td>42.0</td>\n",
       "      <td>802.4</td>\n",
       "      <td>NaN</td>\n",
       "      <td>214.0</td>\n",
       "      <td>195.0</td>\n",
       "    </tr>\n",
       "    <tr>\n",
       "      <th>47663</th>\n",
       "      <td>bKQWNgmS</td>\n",
       "      <td>451.0</td>\n",
       "      <td>63.0</td>\n",
       "      <td>614.9</td>\n",
       "      <td>NaN</td>\n",
       "      <td>93.0</td>\n",
       "      <td>226.0</td>\n",
       "    </tr>\n",
       "  </tbody>\n",
       "</table>\n",
       "</div>"
      ],
      "text/plain": [
       "             ID  n_clicks  n_visitas  monto_compras  monto_descuentos  \\\n",
       "29274  bdWwPeqZ     679.0      118.0         1153.9               NaN   \n",
       "30243  nFR6Nb9u     651.0      126.0         1599.6               NaN   \n",
       "41763  u3uTwE4a     327.0       42.0          802.4               NaN   \n",
       "47663  bKQWNgmS     451.0       63.0          614.9               NaN   \n",
       "\n",
       "       dias_primera_compra  info_perfil  \n",
       "29274                217.0        190.0  \n",
       "30243                147.0        173.0  \n",
       "41763                214.0        195.0  \n",
       "47663                 93.0        226.0  "
      ]
     },
     "execution_count": 40,
     "metadata": {},
     "output_type": "execute_result"
    }
   ],
   "source": [
    "# Looking NaN values in monto_descuentos column\n",
    "filter_nulls(df, \"monto_descuentos\")"
   ]
  },
  {
   "cell_type": "code",
   "execution_count": 41,
   "metadata": {},
   "outputs": [
    {
     "data": {
      "text/html": [
       "<div>\n",
       "<style scoped>\n",
       "    .dataframe tbody tr th:only-of-type {\n",
       "        vertical-align: middle;\n",
       "    }\n",
       "\n",
       "    .dataframe tbody tr th {\n",
       "        vertical-align: top;\n",
       "    }\n",
       "\n",
       "    .dataframe thead th {\n",
       "        text-align: right;\n",
       "    }\n",
       "</style>\n",
       "<table border=\"1\" class=\"dataframe\">\n",
       "  <thead>\n",
       "    <tr style=\"text-align: right;\">\n",
       "      <th></th>\n",
       "      <th>ID</th>\n",
       "      <th>n_clicks</th>\n",
       "      <th>n_visitas</th>\n",
       "      <th>monto_compras</th>\n",
       "      <th>monto_descuentos</th>\n",
       "      <th>dias_primera_compra</th>\n",
       "      <th>info_perfil</th>\n",
       "    </tr>\n",
       "  </thead>\n",
       "  <tbody>\n",
       "    <tr>\n",
       "      <th>41286</th>\n",
       "      <td>F5HDwZQl</td>\n",
       "      <td>300.0</td>\n",
       "      <td>119.0</td>\n",
       "      <td>639.5</td>\n",
       "      <td>157.1</td>\n",
       "      <td>NaN</td>\n",
       "      <td>254.0</td>\n",
       "    </tr>\n",
       "  </tbody>\n",
       "</table>\n",
       "</div>"
      ],
      "text/plain": [
       "             ID  n_clicks  n_visitas  monto_compras  monto_descuentos  \\\n",
       "41286  F5HDwZQl     300.0      119.0          639.5             157.1   \n",
       "\n",
       "       dias_primera_compra  info_perfil  \n",
       "41286                  NaN        254.0  "
      ]
     },
     "execution_count": 41,
     "metadata": {},
     "output_type": "execute_result"
    }
   ],
   "source": [
    "# Looking NaN values in dias_primera_compra column\n",
    "filter_nulls(df, \"dias_primera_compra\")"
   ]
  },
  {
   "cell_type": "code",
   "execution_count": 42,
   "metadata": {},
   "outputs": [
    {
     "data": {
      "text/html": [
       "<div>\n",
       "<style scoped>\n",
       "    .dataframe tbody tr th:only-of-type {\n",
       "        vertical-align: middle;\n",
       "    }\n",
       "\n",
       "    .dataframe tbody tr th {\n",
       "        vertical-align: top;\n",
       "    }\n",
       "\n",
       "    .dataframe thead th {\n",
       "        text-align: right;\n",
       "    }\n",
       "</style>\n",
       "<table border=\"1\" class=\"dataframe\">\n",
       "  <thead>\n",
       "    <tr style=\"text-align: right;\">\n",
       "      <th></th>\n",
       "      <th>ID</th>\n",
       "      <th>n_clicks</th>\n",
       "      <th>n_visitas</th>\n",
       "      <th>monto_compras</th>\n",
       "      <th>monto_descuentos</th>\n",
       "      <th>dias_primera_compra</th>\n",
       "      <th>info_perfil</th>\n",
       "    </tr>\n",
       "  </thead>\n",
       "  <tbody>\n",
       "    <tr>\n",
       "      <th>2355</th>\n",
       "      <td>DuIxWNRx</td>\n",
       "      <td>251.0</td>\n",
       "      <td>85.0</td>\n",
       "      <td>3218.3</td>\n",
       "      <td>82.8</td>\n",
       "      <td>239.0</td>\n",
       "      <td>NaN</td>\n",
       "    </tr>\n",
       "    <tr>\n",
       "      <th>4461</th>\n",
       "      <td>m2qRM7GV</td>\n",
       "      <td>201.0</td>\n",
       "      <td>97.0</td>\n",
       "      <td>3290.1</td>\n",
       "      <td>99.0</td>\n",
       "      <td>182.0</td>\n",
       "      <td>NaN</td>\n",
       "    </tr>\n",
       "    <tr>\n",
       "      <th>5213</th>\n",
       "      <td>xXneFmSB</td>\n",
       "      <td>213.0</td>\n",
       "      <td>49.0</td>\n",
       "      <td>4715.4</td>\n",
       "      <td>71.1</td>\n",
       "      <td>263.0</td>\n",
       "      <td>NaN</td>\n",
       "    </tr>\n",
       "    <tr>\n",
       "      <th>16540</th>\n",
       "      <td>3rLG6MOc</td>\n",
       "      <td>259.0</td>\n",
       "      <td>78.0</td>\n",
       "      <td>3554.5</td>\n",
       "      <td>106.1</td>\n",
       "      <td>171.0</td>\n",
       "      <td>NaN</td>\n",
       "    </tr>\n",
       "    <tr>\n",
       "      <th>31593</th>\n",
       "      <td>EmxKuekb</td>\n",
       "      <td>728.0</td>\n",
       "      <td>108.0</td>\n",
       "      <td>1767.4</td>\n",
       "      <td>1227.0</td>\n",
       "      <td>183.0</td>\n",
       "      <td>NaN</td>\n",
       "    </tr>\n",
       "    <tr>\n",
       "      <th>35991</th>\n",
       "      <td>p3QEz4w8</td>\n",
       "      <td>531.0</td>\n",
       "      <td>140.0</td>\n",
       "      <td>1509.1</td>\n",
       "      <td>889.4</td>\n",
       "      <td>212.0</td>\n",
       "      <td>NaN</td>\n",
       "    </tr>\n",
       "    <tr>\n",
       "      <th>43061</th>\n",
       "      <td>7eWUiBnp</td>\n",
       "      <td>506.0</td>\n",
       "      <td>101.0</td>\n",
       "      <td>1011.0</td>\n",
       "      <td>149.3</td>\n",
       "      <td>243.0</td>\n",
       "      <td>NaN</td>\n",
       "    </tr>\n",
       "    <tr>\n",
       "      <th>51891</th>\n",
       "      <td>vgPOW2B5</td>\n",
       "      <td>478.0</td>\n",
       "      <td>80.0</td>\n",
       "      <td>563.5</td>\n",
       "      <td>195.0</td>\n",
       "      <td>342.0</td>\n",
       "      <td>NaN</td>\n",
       "    </tr>\n",
       "    <tr>\n",
       "      <th>54500</th>\n",
       "      <td>GQ0BO5rS</td>\n",
       "      <td>248.0</td>\n",
       "      <td>81.0</td>\n",
       "      <td>469.8</td>\n",
       "      <td>69.3</td>\n",
       "      <td>197.0</td>\n",
       "      <td>NaN</td>\n",
       "    </tr>\n",
       "  </tbody>\n",
       "</table>\n",
       "</div>"
      ],
      "text/plain": [
       "             ID  n_clicks  n_visitas  monto_compras  monto_descuentos  \\\n",
       "2355   DuIxWNRx     251.0       85.0         3218.3              82.8   \n",
       "4461   m2qRM7GV     201.0       97.0         3290.1              99.0   \n",
       "5213   xXneFmSB     213.0       49.0         4715.4              71.1   \n",
       "16540  3rLG6MOc     259.0       78.0         3554.5             106.1   \n",
       "31593  EmxKuekb     728.0      108.0         1767.4            1227.0   \n",
       "35991  p3QEz4w8     531.0      140.0         1509.1             889.4   \n",
       "43061  7eWUiBnp     506.0      101.0         1011.0             149.3   \n",
       "51891  vgPOW2B5     478.0       80.0          563.5             195.0   \n",
       "54500  GQ0BO5rS     248.0       81.0          469.8              69.3   \n",
       "\n",
       "       dias_primera_compra  info_perfil  \n",
       "2355                 239.0          NaN  \n",
       "4461                 182.0          NaN  \n",
       "5213                 263.0          NaN  \n",
       "16540                171.0          NaN  \n",
       "31593                183.0          NaN  \n",
       "35991                212.0          NaN  \n",
       "43061                243.0          NaN  \n",
       "51891                342.0          NaN  \n",
       "54500                197.0          NaN  "
      ]
     },
     "execution_count": 42,
     "metadata": {},
     "output_type": "execute_result"
    }
   ],
   "source": [
    "# Looking NaN values in info_perfil column\n",
    "filter_nulls(df, \"info_perfil\")"
   ]
  },
  {
   "cell_type": "markdown",
   "metadata": {},
   "source": [
    "The null values in the columns ``n_clicks``, ``n_visitas``, ``monto_compras``, ``monto_descuentos``, ``dias_primera_compra``, and ``info_perfil`` represent errors according to business logic. By analyzing the anomalous records associated with these null values, it can be determined that they are non-representative since their values in other columns are not significant compared to the maximums and minimums. Therefore, a reasonable decision is to remove these anomalous records, as they constitute a small proportion of the total number of records and will not significantly impact the distribution of each column."
   ]
  },
  {
   "cell_type": "markdown",
   "metadata": {},
   "source": [
    "##### **Key Observations**\n"
   ]
  },
  {
   "cell_type": "markdown",
   "metadata": {},
   "source": [
    "- The `ID` column contains no null values, while all other columns have at least one null value.\n",
    "- Although null values represent a small fraction of the total records, they are considered errors according to business logic.\n",
    "- Decision: Remove records with null values due to their low impact on the dataset size."
   ]
  },
  {
   "cell_type": "code",
   "execution_count": 43,
   "metadata": {},
   "outputs": [],
   "source": [
    "# Cleaning NaN values\n",
    "clean_df = remove_nulls(df)"
   ]
  },
  {
   "cell_type": "markdown",
   "metadata": {},
   "source": [
    "| Metric               | Value   |\n",
    "|----------------------|---------|\n",
    "| Total rows before    | 55,056  |\n",
    "| Total rows after     | 55,021  |\n",
    "| Rows removed         | 35      |"
   ]
  },
  {
   "cell_type": "markdown",
   "metadata": {},
   "source": [
    "#### **Negative Values Analysis**"
   ]
  },
  {
   "cell_type": "markdown",
   "metadata": {},
   "source": [
    "This section investigates numeric columns for any negative values, which are considered anomalies based on the dataset's business logic."
   ]
  },
  {
   "cell_type": "code",
   "execution_count": 44,
   "metadata": {},
   "outputs": [
    {
     "name": "stdout",
     "output_type": "stream",
     "text": [
      "Total negative values per column:\n",
      "n_clicks               2\n",
      "n_visitas              4\n",
      "monto_compras          1\n",
      "monto_descuentos       2\n",
      "dias_primera_compra    5\n",
      "info_perfil            1\n",
      "dtype: int64\n"
     ]
    }
   ],
   "source": [
    "# Viewing negative values\n",
    "summarize_negatives(clean_df)"
   ]
  },
  {
   "cell_type": "markdown",
   "metadata": {},
   "source": [
    "\n",
    "By analyzing the number of negative values per numeric column, the observations from the second approach can be confirmed. Clearly, there are anomalous records containing negative values in all numeric columns."
   ]
  },
  {
   "cell_type": "markdown",
   "metadata": {},
   "source": [
    "##### **Looking for especific Negative values per columns**"
   ]
  },
  {
   "cell_type": "code",
   "execution_count": 45,
   "metadata": {},
   "outputs": [
    {
     "data": {
      "text/html": [
       "<div>\n",
       "<style scoped>\n",
       "    .dataframe tbody tr th:only-of-type {\n",
       "        vertical-align: middle;\n",
       "    }\n",
       "\n",
       "    .dataframe tbody tr th {\n",
       "        vertical-align: top;\n",
       "    }\n",
       "\n",
       "    .dataframe thead th {\n",
       "        text-align: right;\n",
       "    }\n",
       "</style>\n",
       "<table border=\"1\" class=\"dataframe\">\n",
       "  <thead>\n",
       "    <tr style=\"text-align: right;\">\n",
       "      <th></th>\n",
       "      <th>ID</th>\n",
       "      <th>n_clicks</th>\n",
       "      <th>n_visitas</th>\n",
       "      <th>monto_compras</th>\n",
       "      <th>monto_descuentos</th>\n",
       "      <th>dias_primera_compra</th>\n",
       "      <th>info_perfil</th>\n",
       "    </tr>\n",
       "  </thead>\n",
       "  <tbody>\n",
       "    <tr>\n",
       "      <th>52456</th>\n",
       "      <td>xWpZISMH</td>\n",
       "      <td>-21.0</td>\n",
       "      <td>135.0</td>\n",
       "      <td>771.5</td>\n",
       "      <td>74.0</td>\n",
       "      <td>308.0</td>\n",
       "      <td>209.0</td>\n",
       "    </tr>\n",
       "    <tr>\n",
       "      <th>54157</th>\n",
       "      <td>fVXS2Q6K</td>\n",
       "      <td>-3.0</td>\n",
       "      <td>95.0</td>\n",
       "      <td>735.1</td>\n",
       "      <td>76.5</td>\n",
       "      <td>175.0</td>\n",
       "      <td>212.0</td>\n",
       "    </tr>\n",
       "  </tbody>\n",
       "</table>\n",
       "</div>"
      ],
      "text/plain": [
       "             ID  n_clicks  n_visitas  monto_compras  monto_descuentos  \\\n",
       "52456  xWpZISMH     -21.0      135.0          771.5              74.0   \n",
       "54157  fVXS2Q6K      -3.0       95.0          735.1              76.5   \n",
       "\n",
       "       dias_primera_compra  info_perfil  \n",
       "52456                308.0        209.0  \n",
       "54157                175.0        212.0  "
      ]
     },
     "execution_count": 45,
     "metadata": {},
     "output_type": "execute_result"
    }
   ],
   "source": [
    "# Looking negative values in n_cliks column\n",
    "filter_negatives(clean_df, \"n_clicks\")"
   ]
  },
  {
   "cell_type": "code",
   "execution_count": 46,
   "metadata": {},
   "outputs": [
    {
     "data": {
      "text/html": [
       "<div>\n",
       "<style scoped>\n",
       "    .dataframe tbody tr th:only-of-type {\n",
       "        vertical-align: middle;\n",
       "    }\n",
       "\n",
       "    .dataframe tbody tr th {\n",
       "        vertical-align: top;\n",
       "    }\n",
       "\n",
       "    .dataframe thead th {\n",
       "        text-align: right;\n",
       "    }\n",
       "</style>\n",
       "<table border=\"1\" class=\"dataframe\">\n",
       "  <thead>\n",
       "    <tr style=\"text-align: right;\">\n",
       "      <th></th>\n",
       "      <th>ID</th>\n",
       "      <th>n_clicks</th>\n",
       "      <th>n_visitas</th>\n",
       "      <th>monto_compras</th>\n",
       "      <th>monto_descuentos</th>\n",
       "      <th>dias_primera_compra</th>\n",
       "      <th>info_perfil</th>\n",
       "    </tr>\n",
       "  </thead>\n",
       "  <tbody>\n",
       "    <tr>\n",
       "      <th>36997</th>\n",
       "      <td>7tkpLAj2</td>\n",
       "      <td>483.0</td>\n",
       "      <td>-6.0</td>\n",
       "      <td>630.2</td>\n",
       "      <td>137.7</td>\n",
       "      <td>115.0</td>\n",
       "      <td>183.0</td>\n",
       "    </tr>\n",
       "    <tr>\n",
       "      <th>40309</th>\n",
       "      <td>92EBlM03</td>\n",
       "      <td>368.0</td>\n",
       "      <td>-12.0</td>\n",
       "      <td>1048.2</td>\n",
       "      <td>108.7</td>\n",
       "      <td>220.0</td>\n",
       "      <td>170.0</td>\n",
       "    </tr>\n",
       "    <tr>\n",
       "      <th>41638</th>\n",
       "      <td>hmGnkF9Q</td>\n",
       "      <td>364.0</td>\n",
       "      <td>-20.0</td>\n",
       "      <td>650.8</td>\n",
       "      <td>125.0</td>\n",
       "      <td>175.0</td>\n",
       "      <td>149.0</td>\n",
       "    </tr>\n",
       "    <tr>\n",
       "      <th>42255</th>\n",
       "      <td>OpdXMDd1</td>\n",
       "      <td>420.0</td>\n",
       "      <td>-4.0</td>\n",
       "      <td>413.6</td>\n",
       "      <td>152.3</td>\n",
       "      <td>140.0</td>\n",
       "      <td>183.0</td>\n",
       "    </tr>\n",
       "  </tbody>\n",
       "</table>\n",
       "</div>"
      ],
      "text/plain": [
       "             ID  n_clicks  n_visitas  monto_compras  monto_descuentos  \\\n",
       "36997  7tkpLAj2     483.0       -6.0          630.2             137.7   \n",
       "40309  92EBlM03     368.0      -12.0         1048.2             108.7   \n",
       "41638  hmGnkF9Q     364.0      -20.0          650.8             125.0   \n",
       "42255  OpdXMDd1     420.0       -4.0          413.6             152.3   \n",
       "\n",
       "       dias_primera_compra  info_perfil  \n",
       "36997                115.0        183.0  \n",
       "40309                220.0        170.0  \n",
       "41638                175.0        149.0  \n",
       "42255                140.0        183.0  "
      ]
     },
     "execution_count": 46,
     "metadata": {},
     "output_type": "execute_result"
    }
   ],
   "source": [
    "# Looking negative values in n_visitas column\n",
    "filter_negatives(clean_df, \"n_visitas\")"
   ]
  },
  {
   "cell_type": "code",
   "execution_count": 47,
   "metadata": {},
   "outputs": [
    {
     "data": {
      "text/html": [
       "<div>\n",
       "<style scoped>\n",
       "    .dataframe tbody tr th:only-of-type {\n",
       "        vertical-align: middle;\n",
       "    }\n",
       "\n",
       "    .dataframe tbody tr th {\n",
       "        vertical-align: top;\n",
       "    }\n",
       "\n",
       "    .dataframe thead th {\n",
       "        text-align: right;\n",
       "    }\n",
       "</style>\n",
       "<table border=\"1\" class=\"dataframe\">\n",
       "  <thead>\n",
       "    <tr style=\"text-align: right;\">\n",
       "      <th></th>\n",
       "      <th>ID</th>\n",
       "      <th>n_clicks</th>\n",
       "      <th>n_visitas</th>\n",
       "      <th>monto_compras</th>\n",
       "      <th>monto_descuentos</th>\n",
       "      <th>dias_primera_compra</th>\n",
       "      <th>info_perfil</th>\n",
       "    </tr>\n",
       "  </thead>\n",
       "  <tbody>\n",
       "    <tr>\n",
       "      <th>47195</th>\n",
       "      <td>kfQhtaZH</td>\n",
       "      <td>263.0</td>\n",
       "      <td>70.0</td>\n",
       "      <td>-123.1</td>\n",
       "      <td>109.6</td>\n",
       "      <td>151.0</td>\n",
       "      <td>152.0</td>\n",
       "    </tr>\n",
       "  </tbody>\n",
       "</table>\n",
       "</div>"
      ],
      "text/plain": [
       "             ID  n_clicks  n_visitas  monto_compras  monto_descuentos  \\\n",
       "47195  kfQhtaZH     263.0       70.0         -123.1             109.6   \n",
       "\n",
       "       dias_primera_compra  info_perfil  \n",
       "47195                151.0        152.0  "
      ]
     },
     "execution_count": 47,
     "metadata": {},
     "output_type": "execute_result"
    }
   ],
   "source": [
    "# Looking negative values in monto_compras column\n",
    "filter_negatives(clean_df, \"monto_compras\")"
   ]
  },
  {
   "cell_type": "code",
   "execution_count": 48,
   "metadata": {},
   "outputs": [
    {
     "data": {
      "text/html": [
       "<div>\n",
       "<style scoped>\n",
       "    .dataframe tbody tr th:only-of-type {\n",
       "        vertical-align: middle;\n",
       "    }\n",
       "\n",
       "    .dataframe tbody tr th {\n",
       "        vertical-align: top;\n",
       "    }\n",
       "\n",
       "    .dataframe thead th {\n",
       "        text-align: right;\n",
       "    }\n",
       "</style>\n",
       "<table border=\"1\" class=\"dataframe\">\n",
       "  <thead>\n",
       "    <tr style=\"text-align: right;\">\n",
       "      <th></th>\n",
       "      <th>ID</th>\n",
       "      <th>n_clicks</th>\n",
       "      <th>n_visitas</th>\n",
       "      <th>monto_compras</th>\n",
       "      <th>monto_descuentos</th>\n",
       "      <th>dias_primera_compra</th>\n",
       "      <th>info_perfil</th>\n",
       "    </tr>\n",
       "  </thead>\n",
       "  <tbody>\n",
       "    <tr>\n",
       "      <th>47567</th>\n",
       "      <td>2Kv3NSaq</td>\n",
       "      <td>264.0</td>\n",
       "      <td>62.0</td>\n",
       "      <td>740.0</td>\n",
       "      <td>-27.7</td>\n",
       "      <td>200.0</td>\n",
       "      <td>203.0</td>\n",
       "    </tr>\n",
       "    <tr>\n",
       "      <th>51799</th>\n",
       "      <td>iJfuldrA</td>\n",
       "      <td>319.0</td>\n",
       "      <td>103.0</td>\n",
       "      <td>512.2</td>\n",
       "      <td>-0.6</td>\n",
       "      <td>125.0</td>\n",
       "      <td>116.0</td>\n",
       "    </tr>\n",
       "  </tbody>\n",
       "</table>\n",
       "</div>"
      ],
      "text/plain": [
       "             ID  n_clicks  n_visitas  monto_compras  monto_descuentos  \\\n",
       "47567  2Kv3NSaq     264.0       62.0          740.0             -27.7   \n",
       "51799  iJfuldrA     319.0      103.0          512.2              -0.6   \n",
       "\n",
       "       dias_primera_compra  info_perfil  \n",
       "47567                200.0        203.0  \n",
       "51799                125.0        116.0  "
      ]
     },
     "execution_count": 48,
     "metadata": {},
     "output_type": "execute_result"
    }
   ],
   "source": [
    "# Looking negative values in monto_descuentos column\n",
    "filter_negatives(clean_df, \"monto_descuentos\")"
   ]
  },
  {
   "cell_type": "code",
   "execution_count": 49,
   "metadata": {},
   "outputs": [
    {
     "data": {
      "text/html": [
       "<div>\n",
       "<style scoped>\n",
       "    .dataframe tbody tr th:only-of-type {\n",
       "        vertical-align: middle;\n",
       "    }\n",
       "\n",
       "    .dataframe tbody tr th {\n",
       "        vertical-align: top;\n",
       "    }\n",
       "\n",
       "    .dataframe thead th {\n",
       "        text-align: right;\n",
       "    }\n",
       "</style>\n",
       "<table border=\"1\" class=\"dataframe\">\n",
       "  <thead>\n",
       "    <tr style=\"text-align: right;\">\n",
       "      <th></th>\n",
       "      <th>ID</th>\n",
       "      <th>n_clicks</th>\n",
       "      <th>n_visitas</th>\n",
       "      <th>monto_compras</th>\n",
       "      <th>monto_descuentos</th>\n",
       "      <th>dias_primera_compra</th>\n",
       "      <th>info_perfil</th>\n",
       "    </tr>\n",
       "  </thead>\n",
       "  <tbody>\n",
       "    <tr>\n",
       "      <th>47620</th>\n",
       "      <td>GEdQeqBj</td>\n",
       "      <td>255.0</td>\n",
       "      <td>82.0</td>\n",
       "      <td>856.2</td>\n",
       "      <td>208.9</td>\n",
       "      <td>88.0</td>\n",
       "      <td>-15.0</td>\n",
       "    </tr>\n",
       "  </tbody>\n",
       "</table>\n",
       "</div>"
      ],
      "text/plain": [
       "             ID  n_clicks  n_visitas  monto_compras  monto_descuentos  \\\n",
       "47620  GEdQeqBj     255.0       82.0          856.2             208.9   \n",
       "\n",
       "       dias_primera_compra  info_perfil  \n",
       "47620                 88.0        -15.0  "
      ]
     },
     "execution_count": 49,
     "metadata": {},
     "output_type": "execute_result"
    }
   ],
   "source": [
    "# Looking negative values in info_perfil column\n",
    "filter_negatives(clean_df, \"info_perfil\")"
   ]
  },
  {
   "cell_type": "markdown",
   "metadata": {},
   "source": [
    "The negative values in the columns ``n_clicks``, ``n_visitas``, ``monto_compras``, ``monto_descuentos``, ``dias_primera_compra``, and ``info_perfil`` represent errors according to business logic. Analyzing the anomalous records associated with these values reveals that they are non-representative since their values in other columns are not significant compared to the maximums and minimums. Therefore, a reasonable decision is to remove these anomalous records, as they constitute a small fraction of the total number of records and will not significantly impact the distribution of each column."
   ]
  },
  {
   "cell_type": "code",
   "execution_count": 50,
   "metadata": {},
   "outputs": [],
   "source": [
    "# Cleaning negative values\n",
    "clean_df = remove_negatives(clean_df)"
   ]
  },
  {
   "cell_type": "markdown",
   "metadata": {},
   "source": [
    "| Metric               | Value   |\n",
    "|----------------------|---------|\n",
    "| Total rows before    | 55,021  |\n",
    "| Total rows after     | 55,006  |\n",
    "| Rows removed         | 15      |"
   ]
  },
  {
   "cell_type": "markdown",
   "metadata": {},
   "source": [
    "#### **Zero Values Analysis**"
   ]
  },
  {
   "cell_type": "markdown",
   "metadata": {},
   "source": [
    "This section identifies zero values in key columns, determining their validity and deciding on actions to handle them if necessary."
   ]
  },
  {
   "cell_type": "code",
   "execution_count": 51,
   "metadata": {},
   "outputs": [
    {
     "name": "stdout",
     "output_type": "stream",
     "text": [
      "Total zero values per column:\n",
      "n_clicks               0\n",
      "n_visitas              3\n",
      "monto_compras          0\n",
      "monto_descuentos       0\n",
      "dias_primera_compra    1\n",
      "info_perfil            0\n",
      "dtype: int64\n"
     ]
    }
   ],
   "source": [
    "# Viewing Zero values\n",
    "summarize_zeros(clean_df)"
   ]
  },
  {
   "cell_type": "markdown",
   "metadata": {},
   "source": [
    "Reviewing the zero values for each column, it can be identified that the columns ``n_visitas`` and ``dias_primera_compra`` include potential records of interest that should be reviewed to verify if the rest of their values make sense."
   ]
  },
  {
   "cell_type": "code",
   "execution_count": 52,
   "metadata": {},
   "outputs": [
    {
     "data": {
      "text/html": [
       "<div>\n",
       "<style scoped>\n",
       "    .dataframe tbody tr th:only-of-type {\n",
       "        vertical-align: middle;\n",
       "    }\n",
       "\n",
       "    .dataframe tbody tr th {\n",
       "        vertical-align: top;\n",
       "    }\n",
       "\n",
       "    .dataframe thead th {\n",
       "        text-align: right;\n",
       "    }\n",
       "</style>\n",
       "<table border=\"1\" class=\"dataframe\">\n",
       "  <thead>\n",
       "    <tr style=\"text-align: right;\">\n",
       "      <th></th>\n",
       "      <th>ID</th>\n",
       "      <th>n_clicks</th>\n",
       "      <th>n_visitas</th>\n",
       "      <th>monto_compras</th>\n",
       "      <th>monto_descuentos</th>\n",
       "      <th>dias_primera_compra</th>\n",
       "      <th>info_perfil</th>\n",
       "    </tr>\n",
       "  </thead>\n",
       "  <tbody>\n",
       "    <tr>\n",
       "      <th>39297</th>\n",
       "      <td>duDuP9OA</td>\n",
       "      <td>390.0</td>\n",
       "      <td>80.0</td>\n",
       "      <td>823.6</td>\n",
       "      <td>157.5</td>\n",
       "      <td>0.0</td>\n",
       "      <td>169.0</td>\n",
       "    </tr>\n",
       "    <tr>\n",
       "      <th>42286</th>\n",
       "      <td>THuzA6TM</td>\n",
       "      <td>364.0</td>\n",
       "      <td>0.0</td>\n",
       "      <td>212.3</td>\n",
       "      <td>88.7</td>\n",
       "      <td>168.0</td>\n",
       "      <td>176.0</td>\n",
       "    </tr>\n",
       "    <tr>\n",
       "      <th>44864</th>\n",
       "      <td>palh4Gcg</td>\n",
       "      <td>312.0</td>\n",
       "      <td>0.0</td>\n",
       "      <td>349.8</td>\n",
       "      <td>121.3</td>\n",
       "      <td>275.0</td>\n",
       "      <td>171.0</td>\n",
       "    </tr>\n",
       "    <tr>\n",
       "      <th>54071</th>\n",
       "      <td>4lAbne98</td>\n",
       "      <td>363.0</td>\n",
       "      <td>0.0</td>\n",
       "      <td>552.0</td>\n",
       "      <td>190.9</td>\n",
       "      <td>168.0</td>\n",
       "      <td>156.0</td>\n",
       "    </tr>\n",
       "  </tbody>\n",
       "</table>\n",
       "</div>"
      ],
      "text/plain": [
       "             ID  n_clicks  n_visitas  monto_compras  monto_descuentos  \\\n",
       "39297  duDuP9OA     390.0       80.0          823.6             157.5   \n",
       "42286  THuzA6TM     364.0        0.0          212.3              88.7   \n",
       "44864  palh4Gcg     312.0        0.0          349.8             121.3   \n",
       "54071  4lAbne98     363.0        0.0          552.0             190.9   \n",
       "\n",
       "       dias_primera_compra  info_perfil  \n",
       "39297                  0.0        169.0  \n",
       "42286                168.0        176.0  \n",
       "44864                275.0        171.0  \n",
       "54071                168.0        156.0  "
      ]
     },
     "execution_count": 52,
     "metadata": {},
     "output_type": "execute_result"
    }
   ],
   "source": [
    "# Looking zero values in all columns\n",
    "filter_zeros(clean_df)"
   ]
  },
  {
   "cell_type": "markdown",
   "metadata": {},
   "source": [
    "The zero values in the columns ``n_visitas`` and ``dias_primera_compra``  represent errors according to business logic, as they do not make sense nor have any relation to the rest of the values associated with their respective records. Evaluating the other values, it can be established that these are common since they are not representative as maximums and minimums. In this sense, a reasonable decision is to remove these anomalous records, as they are not considered highly relevant and are very few compared to the total number of records."
   ]
  },
  {
   "cell_type": "markdown",
   "metadata": {},
   "source": [
    "##### **Key Observations**"
   ]
  },
  {
   "cell_type": "markdown",
   "metadata": {},
   "source": [
    "- The columns `n_visitas` and `dias_primera_compra` contain zero values, which may represent errors based on business logic.\n",
    "- Zero values in these columns do not align with their respective purposes, as they suggest impossible scenarios (e.g., zero visits or zero days since first purchase).\n",
    "- Decision: Remove records with zero values in these columns, as they represent a small fraction of the dataset and do not significantly impact the analysis."
   ]
  },
  {
   "cell_type": "code",
   "execution_count": 53,
   "metadata": {},
   "outputs": [],
   "source": [
    "# Cleaning zero values\n",
    "clean_df = remove_zeros(clean_df)"
   ]
  },
  {
   "cell_type": "markdown",
   "metadata": {},
   "source": [
    "| Metric               | Value   |\n",
    "|----------------------|---------|\n",
    "| Total rows before    | 55,006  |\n",
    "| Total rows after     | 55,002  |\n",
    "| Rows removed         | 4       |"
   ]
  },
  {
   "cell_type": "markdown",
   "metadata": {},
   "source": [
    "#### **Outlier Detection and Cleaning**"
   ]
  },
  {
   "cell_type": "markdown",
   "metadata": {},
   "source": [
    "This section detects extreme outlier values in numeric columns and discusses their potential impact on analysis, followed by cleaning actions."
   ]
  },
  {
   "cell_type": "code",
   "execution_count": 54,
   "metadata": {},
   "outputs": [
    {
     "data": {
      "image/png": "[encoded data removed]",
      "text/plain": [
       "<Figure size 1200x600 with 1 Axes>"
      ]
     },
     "metadata": {},
     "output_type": "display_data"
    }
   ],
   "source": [
    "# Viewing the distributions of all columns\n",
    "plot_boxplot(clean_df)"
   ]
  },
  {
   "cell_type": "markdown",
   "metadata": {},
   "source": [
    "Based on the graph of the distributions for all numeric columns, it can be confirmed that the only column without outliers is ``monto_compras``. In contrast, all other columns contain at least one outlier. Since the number of these values is quite large in most columns, a reasonable decision is to retain all records containing them. Removing these outliers could significantly alter the distribution of each column, potentially having a negative impact on future analysis and segmentation."
   ]
  },
  {
   "cell_type": "markdown",
   "metadata": {},
   "source": [
    "#### **Saving Cleaned Data**"
   ]
  },
  {
   "cell_type": "markdown",
   "metadata": {},
   "source": [
    "This section saves the cleaned and processed dataset to a CSV file for future analysis and modeling."
   ]
  },
  {
   "cell_type": "markdown",
   "metadata": {},
   "source": [
    "| Metric               | Value   |\n",
    "|----------------------|---------|\n",
    "| Total rows before    | 55,056  |\n",
    "| Total rows after     | 55,002  |\n",
    "| Rows removed         | 54      |"
   ]
  },
  {
   "cell_type": "code",
   "execution_count": 55,
   "metadata": {},
   "outputs": [],
   "source": [
    "# Saving dataframe\n",
    "output_path = \"../data/processed/cleaned_dataset.csv\"\n",
    "save_dataset(clean_df, output_path)"
   ]
  }
 ],
 "metadata": {
  "kernelspec": {
   "display_name": "customer_segmentation",
   "language": "python",
   "name": "python3"
  },
  "language_info": {
   "codemirror_mode": {
    "name": "ipython",
    "version": 3
   },
   "file_extension": ".py",
   "mimetype": "text/x-python",
   "name": "python",
   "nbconvert_exporter": "python",
   "pygments_lexer": "ipython3",
   "version": "3.10.15"
  }
 },
 "nbformat": 4,
 "nbformat_minor": 4
}
